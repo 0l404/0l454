{
 "cells": [
  {
   "cell_type": "code",
   "execution_count": 198,
   "metadata": {},
   "outputs": [],
   "source": [
    "import matplotlib.pyplot as plt\n",
    "import numpy as np\n",
    "import seaborn as sns\n",
    "import pandas as pd\n",
    "import sklearn\n",
    "from sklearn.linear_model import LinearRegression\n",
    "from sklearn.preprocessing import PolynomialFeatures\n",
    "from sklearn import linear_model\n",
    "%config InLineBackend.figure_format = 'KKX'\n",
    "%matplotlib inline"
   ]
  },
  {
   "cell_type": "code",
   "execution_count": 199,
   "metadata": {},
   "outputs": [
    {
     "data": {
      "text/html": [
       "<div>\n",
       "<style scoped>\n",
       "    .dataframe tbody tr th:only-of-type {\n",
       "        vertical-align: middle;\n",
       "    }\n",
       "\n",
       "    .dataframe tbody tr th {\n",
       "        vertical-align: top;\n",
       "    }\n",
       "\n",
       "    .dataframe thead th {\n",
       "        text-align: right;\n",
       "    }\n",
       "</style>\n",
       "<table border=\"1\" class=\"dataframe\">\n",
       "  <thead>\n",
       "    <tr style=\"text-align: right;\">\n",
       "      <th></th>\n",
       "      <th>year</th>\n",
       "      <th>value</th>\n",
       "      <th>gdp</th>\n",
       "    </tr>\n",
       "  </thead>\n",
       "  <tbody>\n",
       "    <tr>\n",
       "      <th>0</th>\n",
       "      <td>2540.01</td>\n",
       "      <td>24.73</td>\n",
       "      <td>63.70</td>\n",
       "    </tr>\n",
       "    <tr>\n",
       "      <th>1</th>\n",
       "      <td>2540.02</td>\n",
       "      <td>24.33</td>\n",
       "      <td>63.70</td>\n",
       "    </tr>\n",
       "    <tr>\n",
       "      <th>2</th>\n",
       "      <td>2540.03</td>\n",
       "      <td>25.46</td>\n",
       "      <td>63.70</td>\n",
       "    </tr>\n",
       "    <tr>\n",
       "      <th>3</th>\n",
       "      <td>2540.04</td>\n",
       "      <td>23.38</td>\n",
       "      <td>63.70</td>\n",
       "    </tr>\n",
       "    <tr>\n",
       "      <th>4</th>\n",
       "      <td>2540.05</td>\n",
       "      <td>23.41</td>\n",
       "      <td>63.70</td>\n",
       "    </tr>\n",
       "    <tr>\n",
       "      <th>...</th>\n",
       "      <td>...</td>\n",
       "      <td>...</td>\n",
       "      <td>...</td>\n",
       "    </tr>\n",
       "    <tr>\n",
       "      <th>254</th>\n",
       "      <td>2563.03</td>\n",
       "      <td>36.79</td>\n",
       "      <td>101.36</td>\n",
       "    </tr>\n",
       "    <tr>\n",
       "      <th>255</th>\n",
       "      <td>2563.04</td>\n",
       "      <td>33.59</td>\n",
       "      <td>101.36</td>\n",
       "    </tr>\n",
       "    <tr>\n",
       "      <th>256</th>\n",
       "      <td>2563.05</td>\n",
       "      <td>35.22</td>\n",
       "      <td>101.36</td>\n",
       "    </tr>\n",
       "    <tr>\n",
       "      <th>257</th>\n",
       "      <td>2563.06</td>\n",
       "      <td>36.96</td>\n",
       "      <td>101.36</td>\n",
       "    </tr>\n",
       "    <tr>\n",
       "      <th>258</th>\n",
       "      <td>2563.07</td>\n",
       "      <td>38.12</td>\n",
       "      <td>101.36</td>\n",
       "    </tr>\n",
       "  </tbody>\n",
       "</table>\n",
       "<p>259 rows × 3 columns</p>\n",
       "</div>"
      ],
      "text/plain": [
       "        year  value     gdp\n",
       "0    2540.01  24.73   63.70\n",
       "1    2540.02  24.33   63.70\n",
       "2    2540.03  25.46   63.70\n",
       "3    2540.04  23.38   63.70\n",
       "4    2540.05  23.41   63.70\n",
       "..       ...    ...     ...\n",
       "254  2563.03  36.79  101.36\n",
       "255  2563.04  33.59  101.36\n",
       "256  2563.05  35.22  101.36\n",
       "257  2563.06  36.96  101.36\n",
       "258  2563.07  38.12  101.36\n",
       "\n",
       "[259 rows x 3 columns]"
      ]
     },
     "execution_count": 199,
     "metadata": {},
     "output_type": "execute_result"
    }
   ],
   "source": [
    "data = pd.read_csv('RESULT 2.csv') \n",
    "data"
   ]
  },
  {
   "cell_type": "code",
   "execution_count": 200,
   "metadata": {},
   "outputs": [
    {
     "name": "stdout",
     "output_type": "stream",
     "text": [
      "<class 'pandas.core.frame.DataFrame'>\n",
      "RangeIndex: 259 entries, 0 to 258\n",
      "Data columns (total 3 columns):\n",
      " #   Column  Non-Null Count  Dtype  \n",
      "---  ------  --------------  -----  \n",
      " 0   year    259 non-null    float64\n",
      " 1   value   259 non-null    float64\n",
      " 2   gdp     259 non-null    float64\n",
      "dtypes: float64(3)\n",
      "memory usage: 6.1 KB\n"
     ]
    }
   ],
   "source": [
    "data.info()\n",
    "cols=['year','value','gdp']\n"
   ]
  },
  {
   "cell_type": "code",
   "execution_count": 201,
   "metadata": {},
   "outputs": [
    {
     "data": {
      "image/png": "[encoded data removed]",
      "text/plain": [
       "<Figure size 360x360 with 1 Axes>"
      ]
     },
     "metadata": {
      "needs_background": "light"
     },
     "output_type": "display_data"
    }
   ],
   "source": [
    "sns.lmplot(x='year',y='value',data=data, ci=None,)\n",
    "scatter_kws={'alpha':0.4}\n",
    "line_kws={'color':'orange'}"
   ]
  },
  {
   "cell_type": "code",
   "execution_count": 202,
   "metadata": {},
   "outputs": [
    {
     "data": {
      "text/plain": [
       "<seaborn.axisgrid.PairGrid at 0x17192a90>"
      ]
     },
     "execution_count": 202,
     "metadata": {},
     "output_type": "execute_result"
    },
    {
     "data": {
      "image/png": "[encoded data removed]",
      "text/plain": [
       "<Figure size 540x540 with 12 Axes>"
      ]
     },
     "metadata": {
      "needs_background": "light"
     },
     "output_type": "display_data"
    }
   ],
   "source": [
    "\n",
    "sns.pairplot(data, kind='reg')"
   ]
  },
  {
   "cell_type": "code",
   "execution_count": 203,
   "metadata": {},
   "outputs": [
    {
     "data": {
      "text/plain": [
       "LinearRegression()"
      ]
     },
     "execution_count": 203,
     "metadata": {},
     "output_type": "execute_result"
    }
   ],
   "source": [
    "model = LinearRegression()\n",
    "model"
   ]
  },
  {
   "cell_type": "code",
   "execution_count": 204,
   "metadata": {},
   "outputs": [
    {
     "data": {
      "text/plain": [
       "259"
      ]
     },
     "execution_count": 204,
     "metadata": {},
     "output_type": "execute_result"
    }
   ],
   "source": [
    "len(data)"
   ]
  },
  {
   "cell_type": "code",
   "execution_count": 205,
   "metadata": {},
   "outputs": [
    {
     "data": {
      "text/plain": [
       "Index(['year', 'value', 'gdp'], dtype='object')"
      ]
     },
     "execution_count": 205,
     "metadata": {},
     "output_type": "execute_result"
    }
   ],
   "source": [
    "data.columns"
   ]
  },
  {
   "cell_type": "code",
   "execution_count": 206,
   "metadata": {},
   "outputs": [],
   "source": [
    "train_x=data.drop(columns=['value'])#ลบ value ออกจาก แกน x\n",
    "train_y=data['value']#ให"
   ]
  },
  {
   "cell_type": "code",
   "execution_count": 207,
   "metadata": {},
   "outputs": [
    {
     "data": {
      "text/plain": [
       "259"
      ]
     },
     "execution_count": 207,
     "metadata": {},
     "output_type": "execute_result"
    }
   ],
   "source": [
    "len(data)"
   ]
  },
  {
   "cell_type": "code",
   "execution_count": 208,
   "metadata": {},
   "outputs": [
    {
     "data": {
      "text/plain": [
       "0    24.73\n",
       "1    24.33\n",
       "2    25.46\n",
       "3    23.38\n",
       "4    23.41\n",
       "Name: value, dtype: float64"
      ]
     },
     "execution_count": 208,
     "metadata": {},
     "output_type": "execute_result"
    }
   ],
   "source": [
    "train_y.head()"
   ]
  },
  {
   "cell_type": "code",
   "execution_count": 209,
   "metadata": {},
   "outputs": [
    {
     "data": {
      "text/html": [
       "<div>\n",
       "<style scoped>\n",
       "    .dataframe tbody tr th:only-of-type {\n",
       "        vertical-align: middle;\n",
       "    }\n",
       "\n",
       "    .dataframe tbody tr th {\n",
       "        vertical-align: top;\n",
       "    }\n",
       "\n",
       "    .dataframe thead th {\n",
       "        text-align: right;\n",
       "    }\n",
       "</style>\n",
       "<table border=\"1\" class=\"dataframe\">\n",
       "  <thead>\n",
       "    <tr style=\"text-align: right;\">\n",
       "      <th></th>\n",
       "      <th>year</th>\n",
       "      <th>gdp</th>\n",
       "    </tr>\n",
       "  </thead>\n",
       "  <tbody>\n",
       "    <tr>\n",
       "      <th>0</th>\n",
       "      <td>2540.01</td>\n",
       "      <td>63.7</td>\n",
       "    </tr>\n",
       "    <tr>\n",
       "      <th>1</th>\n",
       "      <td>2540.02</td>\n",
       "      <td>63.7</td>\n",
       "    </tr>\n",
       "    <tr>\n",
       "      <th>2</th>\n",
       "      <td>2540.03</td>\n",
       "      <td>63.7</td>\n",
       "    </tr>\n",
       "    <tr>\n",
       "      <th>3</th>\n",
       "      <td>2540.04</td>\n",
       "      <td>63.7</td>\n",
       "    </tr>\n",
       "    <tr>\n",
       "      <th>4</th>\n",
       "      <td>2540.05</td>\n",
       "      <td>63.7</td>\n",
       "    </tr>\n",
       "  </tbody>\n",
       "</table>\n",
       "</div>"
      ],
      "text/plain": [
       "      year   gdp\n",
       "0  2540.01  63.7\n",
       "1  2540.02  63.7\n",
       "2  2540.03  63.7\n",
       "3  2540.04  63.7\n",
       "4  2540.05  63.7"
      ]
     },
     "execution_count": 209,
     "metadata": {},
     "output_type": "execute_result"
    }
   ],
   "source": [
    "train_x.head()"
   ]
  },
  {
   "cell_type": "code",
   "execution_count": 210,
   "metadata": {},
   "outputs": [
    {
     "data": {
      "text/plain": [
       "LinearRegression()"
      ]
     },
     "execution_count": 210,
     "metadata": {},
     "output_type": "execute_result"
    }
   ],
   "source": [
    "model.fit(train_x,train_y)"
   ]
  },
  {
   "cell_type": "code",
   "execution_count": 211,
   "metadata": {},
   "outputs": [
    {
     "data": {
      "text/plain": [
       "0.4501134085945685"
      ]
     },
     "execution_count": 211,
     "metadata": {},
     "output_type": "execute_result"
    }
   ],
   "source": [
    "model.score(train_x,train_y)"
   ]
  },
  {
   "cell_type": "code",
   "execution_count": 212,
   "metadata": {},
   "outputs": [
    {
     "data": {
      "text/plain": [
       "15637.742882036302"
      ]
     },
     "execution_count": 212,
     "metadata": {},
     "output_type": "execute_result"
    }
   ],
   "source": [
    "model.intercept_"
   ]
  },
  {
   "cell_type": "code",
   "execution_count": 213,
   "metadata": {},
   "outputs": [
    {
     "data": {
      "text/plain": [
       "array([-6.24837805,  4.09311032])"
      ]
     },
     "execution_count": 213,
     "metadata": {},
     "output_type": "execute_result"
    }
   ],
   "source": [
    "model.coef_\n"
   ]
  },
  {
   "cell_type": "code",
   "execution_count": 214,
   "metadata": {
    "scrolled": true
   },
   "outputs": [
    {
     "data": {
      "text/html": [
       "<div>\n",
       "<style scoped>\n",
       "    .dataframe tbody tr th:only-of-type {\n",
       "        vertical-align: middle;\n",
       "    }\n",
       "\n",
       "    .dataframe tbody tr th {\n",
       "        vertical-align: top;\n",
       "    }\n",
       "\n",
       "    .dataframe thead th {\n",
       "        text-align: right;\n",
       "    }\n",
       "</style>\n",
       "<table border=\"1\" class=\"dataframe\">\n",
       "  <thead>\n",
       "    <tr style=\"text-align: right;\">\n",
       "      <th></th>\n",
       "      <th>year</th>\n",
       "      <th>gdp</th>\n",
       "    </tr>\n",
       "  </thead>\n",
       "  <tbody>\n",
       "    <tr>\n",
       "      <th>50</th>\n",
       "      <td>2544.03</td>\n",
       "      <td>71.2</td>\n",
       "    </tr>\n",
       "    <tr>\n",
       "      <th>51</th>\n",
       "      <td>2544.04</td>\n",
       "      <td>71.2</td>\n",
       "    </tr>\n",
       "    <tr>\n",
       "      <th>52</th>\n",
       "      <td>2544.05</td>\n",
       "      <td>71.2</td>\n",
       "    </tr>\n",
       "    <tr>\n",
       "      <th>53</th>\n",
       "      <td>2544.06</td>\n",
       "      <td>71.2</td>\n",
       "    </tr>\n",
       "    <tr>\n",
       "      <th>54</th>\n",
       "      <td>2544.07</td>\n",
       "      <td>71.2</td>\n",
       "    </tr>\n",
       "  </tbody>\n",
       "</table>\n",
       "</div>"
      ],
      "text/plain": [
       "       year   gdp\n",
       "50  2544.03  71.2\n",
       "51  2544.04  71.2\n",
       "52  2544.05  71.2\n",
       "53  2544.06  71.2\n",
       "54  2544.07  71.2"
      ]
     },
     "execution_count": 214,
     "metadata": {},
     "output_type": "execute_result"
    }
   ],
   "source": [
    "x_test=data.drop(columns=['value'])[50:]\n",
    "x_test.head()"
   ]
  },
  {
   "cell_type": "code",
   "execution_count": 215,
   "metadata": {},
   "outputs": [
    {
     "data": {
      "text/plain": [
       "array([27.53128005])"
      ]
     },
     "execution_count": 215,
     "metadata": {},
     "output_type": "execute_result"
    }
   ],
   "source": [
    "model.predict([[2540.01,63.7]])\n",
    "           "
   ]
  },
  {
   "cell_type": "code",
   "execution_count": 216,
   "metadata": {},
   "outputs": [
    {
     "data": {
      "text/plain": [
       "array([33.11112766, 33.04864388, 32.9861601 , 32.92367632, 32.86119254,\n",
       "       32.79870876, 32.73622498, 32.6737412 , 32.61125742, 32.54877364,\n",
       "       29.03427233, 28.97178855, 28.90930477, 28.84682099, 28.78433721,\n",
       "       28.72185343, 28.65936965, 28.59688587, 28.53440209, 28.47191831,\n",
       "       28.40943453, 28.34695075, 28.10693769, 28.04445391, 27.98197013,\n",
       "       27.91948635, 27.85700257, 27.79451879, 27.73203501, 27.66955123,\n",
       "       27.60706745, 27.54458367, 27.48209989, 27.41961611, 30.45409131,\n",
       "       30.39160753, 30.32912375, 30.26663997, 30.20415619, 30.14167241,\n",
       "       30.07918863, 30.01670485, 29.95422107, 29.89173728, 29.8292535 ,\n",
       "       29.76676972, 37.7129773 , 37.65049352, 37.58800974, 37.52552596,\n",
       "       37.46304218, 37.4005584 , 37.33807462, 37.27559084, 37.21310706,\n",
       "       37.15062328, 37.0881395 , 37.02565572, 46.60910742, 46.54662364,\n",
       "       46.48413986, 46.42165608, 46.3591723 , 46.29668852, 46.23420474,\n",
       "       46.17172096, 46.10923718, 46.0467534 , 45.98426962, 45.92178584,\n",
       "       47.72832794, 47.66584416, 47.60336038, 47.5408766 , 47.47839282,\n",
       "       47.41590904, 47.35342526, 47.29094148, 47.2284577 , 47.16597392,\n",
       "       47.10349014, 47.04100636, 60.30825735, 60.24577357, 60.18328979,\n",
       "       60.12080601, 60.05832223, 59.99583845, 59.93335467, 59.87087089,\n",
       "       59.80838711, 59.74590333, 59.68341955, 59.62093576, 50.78539105,\n",
       "       50.72290727, 50.66042349, 50.59793971, 50.53545593, 50.47297215,\n",
       "       50.41048836, 50.34800458, 50.2855208 , 50.22303702, 50.16055324,\n",
       "       50.09806946, 69.73780291, 69.67531913, 69.61283535, 69.55035157,\n",
       "       69.48786779, 69.42538401, 69.36290023, 69.30041645, 69.23793267,\n",
       "       69.17544889, 69.11296511, 69.05048133, 72.16681873, 72.10433495,\n",
       "       72.04185117, 71.97936739, 71.91688361, 71.85439983, 71.79191605,\n",
       "       71.72943227, 71.66694849, 71.60446471, 71.54198093, 71.47949715,\n",
       "       73.61348808, 73.5510043 , 73.48852052, 73.42603674, 73.36355296,\n",
       "       73.30106918, 73.2385854 , 73.17610162, 73.11361784, 73.05113405,\n",
       "       72.98865027, 72.92616649, 63.64037964, 63.57789586, 63.51541208,\n",
       "       63.4529283 , 63.39044452, 63.32796074, 63.26547696, 63.20299318,\n",
       "       63.1405094 , 63.07802562, 63.01554184, 62.95305806, 58.16969255,\n",
       "       58.10720877, 58.04472499, 57.98224121, 57.91975743, 57.85727365,\n",
       "       57.79478987, 57.73230609, 57.66982231, 57.60733853, 57.54485475,\n",
       "       57.48237097, 54.62276731, 54.56028353, 54.49779975, 54.43531597,\n",
       "       54.37283219, 54.31034841, 54.24786463, 54.18538085, 54.12289707,\n",
       "       54.06041329, 53.99792951, 53.93544573, 52.7949484 , 52.73246462,\n",
       "       52.66998084, 52.60749706, 52.54501328, 52.4825295 , 52.42004572,\n",
       "       52.35756194, 52.29507816, 52.23259438, 52.1701106 , 52.10762682,\n",
       "       49.49360978, 49.431126  , 49.36864222, 49.30615844, 49.24367466,\n",
       "       49.18119088, 49.1187071 , 49.05622332, 48.99373954, 48.93125576,\n",
       "       48.86877198, 48.8062882 , 37.96511943, 37.90263565, 37.84015186,\n",
       "       37.77766808, 37.7151843 , 37.65270052, 37.59021674])"
      ]
     },
     "execution_count": 216,
     "metadata": {},
     "output_type": "execute_result"
    }
   ],
   "source": [
    "\n",
    "y_hat=model.predict(x_test)\n",
    "y_hat"
   ]
  },
  {
   "cell_type": "code",
   "execution_count": 262,
   "metadata": {},
   "outputs": [
    {
     "data": {
      "text/html": [
       "<div>\n",
       "<style scoped>\n",
       "    .dataframe tbody tr th:only-of-type {\n",
       "        vertical-align: middle;\n",
       "    }\n",
       "\n",
       "    .dataframe tbody tr th {\n",
       "        vertical-align: top;\n",
       "    }\n",
       "\n",
       "    .dataframe thead th {\n",
       "        text-align: right;\n",
       "    }\n",
       "</style>\n",
       "<table border=\"1\" class=\"dataframe\">\n",
       "  <thead>\n",
       "    <tr style=\"text-align: right;\">\n",
       "      <th></th>\n",
       "      <th>index</th>\n",
       "      <th>year</th>\n",
       "      <th>value</th>\n",
       "      <th>gdp</th>\n",
       "      <th>predicted</th>\n",
       "    </tr>\n",
       "  </thead>\n",
       "  <tbody>\n",
       "    <tr>\n",
       "      <th>0</th>\n",
       "      <td>50</td>\n",
       "      <td>2544.03</td>\n",
       "      <td>20.72</td>\n",
       "      <td>71.20</td>\n",
       "      <td>33.111128</td>\n",
       "    </tr>\n",
       "    <tr>\n",
       "      <th>1</th>\n",
       "      <td>51</td>\n",
       "      <td>2544.04</td>\n",
       "      <td>22.01</td>\n",
       "      <td>71.20</td>\n",
       "      <td>33.048644</td>\n",
       "    </tr>\n",
       "    <tr>\n",
       "      <th>2</th>\n",
       "      <td>52</td>\n",
       "      <td>2544.05</td>\n",
       "      <td>23.82</td>\n",
       "      <td>71.20</td>\n",
       "      <td>32.986160</td>\n",
       "    </tr>\n",
       "    <tr>\n",
       "      <th>3</th>\n",
       "      <td>53</td>\n",
       "      <td>2544.06</td>\n",
       "      <td>24.34</td>\n",
       "      <td>71.20</td>\n",
       "      <td>32.923676</td>\n",
       "    </tr>\n",
       "    <tr>\n",
       "      <th>4</th>\n",
       "      <td>54</td>\n",
       "      <td>2544.07</td>\n",
       "      <td>22.60</td>\n",
       "      <td>71.20</td>\n",
       "      <td>32.861193</td>\n",
       "    </tr>\n",
       "    <tr>\n",
       "      <th>...</th>\n",
       "      <td>...</td>\n",
       "      <td>...</td>\n",
       "      <td>...</td>\n",
       "      <td>...</td>\n",
       "      <td>...</td>\n",
       "    </tr>\n",
       "    <tr>\n",
       "      <th>204</th>\n",
       "      <td>254</td>\n",
       "      <td>2563.03</td>\n",
       "      <td>36.79</td>\n",
       "      <td>101.36</td>\n",
       "      <td>37.840152</td>\n",
       "    </tr>\n",
       "    <tr>\n",
       "      <th>205</th>\n",
       "      <td>255</td>\n",
       "      <td>2563.04</td>\n",
       "      <td>33.59</td>\n",
       "      <td>101.36</td>\n",
       "      <td>37.777668</td>\n",
       "    </tr>\n",
       "    <tr>\n",
       "      <th>206</th>\n",
       "      <td>256</td>\n",
       "      <td>2563.05</td>\n",
       "      <td>35.22</td>\n",
       "      <td>101.36</td>\n",
       "      <td>37.715184</td>\n",
       "    </tr>\n",
       "    <tr>\n",
       "      <th>207</th>\n",
       "      <td>257</td>\n",
       "      <td>2563.06</td>\n",
       "      <td>36.96</td>\n",
       "      <td>101.36</td>\n",
       "      <td>37.652701</td>\n",
       "    </tr>\n",
       "    <tr>\n",
       "      <th>208</th>\n",
       "      <td>258</td>\n",
       "      <td>2563.07</td>\n",
       "      <td>38.12</td>\n",
       "      <td>101.36</td>\n",
       "      <td>37.590217</td>\n",
       "    </tr>\n",
       "  </tbody>\n",
       "</table>\n",
       "<p>209 rows × 5 columns</p>\n",
       "</div>"
      ],
      "text/plain": [
       "     index     year  value     gdp  predicted\n",
       "0       50  2544.03  20.72   71.20  33.111128\n",
       "1       51  2544.04  22.01   71.20  33.048644\n",
       "2       52  2544.05  23.82   71.20  32.986160\n",
       "3       53  2544.06  24.34   71.20  32.923676\n",
       "4       54  2544.07  22.60   71.20  32.861193\n",
       "..     ...      ...    ...     ...        ...\n",
       "204    254  2563.03  36.79  101.36  37.840152\n",
       "205    255  2563.04  33.59  101.36  37.777668\n",
       "206    256  2563.05  35.22  101.36  37.715184\n",
       "207    257  2563.06  36.96  101.36  37.652701\n",
       "208    258  2563.07  38.12  101.36  37.590217\n",
       "\n",
       "[209 rows x 5 columns]"
      ]
     },
     "execution_count": 262,
     "metadata": {},
     "output_type": "execute_result"
    }
   ],
   "source": [
    "dc=pd.concat([data[50:].reset_index(),pd.Series(y_hat, name='predicted')], axis='columns')\n",
    "dc"
   ]
  },
  {
   "cell_type": "code",
   "execution_count": 312,
   "metadata": {},
   "outputs": [
    {
     "data": {
      "text/html": [
       "<div>\n",
       "<style scoped>\n",
       "    .dataframe tbody tr th:only-of-type {\n",
       "        vertical-align: middle;\n",
       "    }\n",
       "\n",
       "    .dataframe tbody tr th {\n",
       "        vertical-align: top;\n",
       "    }\n",
       "\n",
       "    .dataframe thead th {\n",
       "        text-align: right;\n",
       "    }\n",
       "</style>\n",
       "<table border=\"1\" class=\"dataframe\">\n",
       "  <thead>\n",
       "    <tr style=\"text-align: right;\">\n",
       "      <th></th>\n",
       "      <th>year</th>\n",
       "      <th>value</th>\n",
       "      <th>gdp</th>\n",
       "    </tr>\n",
       "  </thead>\n",
       "  <tbody>\n",
       "    <tr>\n",
       "      <th>0</th>\n",
       "      <td>2540.01</td>\n",
       "      <td>24.73</td>\n",
       "      <td>63.70</td>\n",
       "    </tr>\n",
       "    <tr>\n",
       "      <th>1</th>\n",
       "      <td>2540.02</td>\n",
       "      <td>24.33</td>\n",
       "      <td>63.70</td>\n",
       "    </tr>\n",
       "    <tr>\n",
       "      <th>2</th>\n",
       "      <td>2540.03</td>\n",
       "      <td>25.46</td>\n",
       "      <td>63.70</td>\n",
       "    </tr>\n",
       "    <tr>\n",
       "      <th>3</th>\n",
       "      <td>2540.04</td>\n",
       "      <td>23.38</td>\n",
       "      <td>63.70</td>\n",
       "    </tr>\n",
       "    <tr>\n",
       "      <th>4</th>\n",
       "      <td>2540.05</td>\n",
       "      <td>23.41</td>\n",
       "      <td>63.70</td>\n",
       "    </tr>\n",
       "    <tr>\n",
       "      <th>...</th>\n",
       "      <td>...</td>\n",
       "      <td>...</td>\n",
       "      <td>...</td>\n",
       "    </tr>\n",
       "    <tr>\n",
       "      <th>253</th>\n",
       "      <td>2563.02</td>\n",
       "      <td>38.84</td>\n",
       "      <td>101.36</td>\n",
       "    </tr>\n",
       "    <tr>\n",
       "      <th>254</th>\n",
       "      <td>2563.03</td>\n",
       "      <td>36.79</td>\n",
       "      <td>101.36</td>\n",
       "    </tr>\n",
       "    <tr>\n",
       "      <th>255</th>\n",
       "      <td>2563.04</td>\n",
       "      <td>33.59</td>\n",
       "      <td>101.36</td>\n",
       "    </tr>\n",
       "    <tr>\n",
       "      <th>256</th>\n",
       "      <td>2563.05</td>\n",
       "      <td>35.22</td>\n",
       "      <td>101.36</td>\n",
       "    </tr>\n",
       "    <tr>\n",
       "      <th>257</th>\n",
       "      <td>2563.06</td>\n",
       "      <td>36.96</td>\n",
       "      <td>101.36</td>\n",
       "    </tr>\n",
       "  </tbody>\n",
       "</table>\n",
       "<p>211 rows × 3 columns</p>\n",
       "</div>"
      ],
      "text/plain": [
       "        year  value     gdp\n",
       "0    2540.01  24.73   63.70\n",
       "1    2540.02  24.33   63.70\n",
       "2    2540.03  25.46   63.70\n",
       "3    2540.04  23.38   63.70\n",
       "4    2540.05  23.41   63.70\n",
       "..       ...    ...     ...\n",
       "253  2563.02  38.84  101.36\n",
       "254  2563.03  36.79  101.36\n",
       "255  2563.04  33.59  101.36\n",
       "256  2563.05  35.22  101.36\n",
       "257  2563.06  36.96  101.36\n",
       "\n",
       "[211 rows x 3 columns]"
      ]
     },
     "execution_count": 312,
     "metadata": {},
     "output_type": "execute_result"
    }
   ],
   "source": [
    "msk = np.random.rand(len(data)) < 0.8\n",
    "train = data[msk]\n",
    "test = data[~msk]\n",
    "train\n"
   ]
  },
  {
   "cell_type": "code",
   "execution_count": 313,
   "metadata": {},
   "outputs": [
    {
     "name": "stdout",
     "output_type": "stream",
     "text": [
      "Coefficients:  [[1.38570208]]\n",
      "Intercept:  [-3488.16316082]\n"
     ]
    }
   ],
   "source": [
    "poly = PolynomialFeatures(degree=2)\n",
    "regr = linear_model.LinearRegression()\n",
    "train_x = np.asanyarray(train[['year']])\n",
    "train_y = np.asanyarray(train[['value']])\n",
    "regr.fit (train_x, train_y)\n",
    "print ('Coefficients: ', regr.coef_)\n",
    "print ('Intercept: ',regr.intercept_)\n"
   ]
  },
  {
   "cell_type": "code",
   "execution_count": 314,
   "metadata": {},
   "outputs": [],
   "source": [
    "x_poly = poly.fit_transform(train_x)"
   ]
  },
  {
   "cell_type": "code",
   "execution_count": 315,
   "metadata": {},
   "outputs": [],
   "source": [
    "reg = LinearRegression()"
   ]
  },
  {
   "cell_type": "code",
   "execution_count": 316,
   "metadata": {},
   "outputs": [
    {
     "data": {
      "text/plain": [
       "LinearRegression()"
      ]
     },
     "execution_count": 316,
     "metadata": {},
     "output_type": "execute_result"
    }
   ],
   "source": [
    "reg.fit(x_poly,train_y)"
   ]
  },
  {
   "cell_type": "code",
   "execution_count": 317,
   "metadata": {},
   "outputs": [
    {
     "data": {
      "text/plain": [
       "[<matplotlib.lines.Line2D at 0x18d92880>]"
      ]
     },
     "execution_count": 317,
     "metadata": {},
     "output_type": "execute_result"
    },
    {
     "data": {
      "image/png": "[encoded data removed]",
      "text/plain": [
       "<Figure size 432x288 with 1 Axes>"
      ]
     },
     "metadata": {
      "needs_background": "light"
     },
     "output_type": "display_data"
    }
   ],
   "source": [
    "plt.scatter(train.year, train.value,  color='blue')\n",
    "plt.plot(train_x,reg.predict(poly.fit_transform(train_x)),color = 'red')"
   ]
  },
  {
   "cell_type": "code",
   "execution_count": 318,
   "metadata": {
    "scrolled": true
   },
   "outputs": [
    {
     "name": "stdout",
     "output_type": "stream",
     "text": [
      "Mean absolute error: 11.88\n",
      "Residual sum of squares (MSE): 195.00\n",
      "R2-score: 0.11\n"
     ]
    }
   ],
   "source": [
    "from sklearn.metrics import r2_score\n",
    "\n",
    "test_x = np.asanyarray(test[['year']])\n",
    "test_y = np.asanyarray(test[['value']])\n",
    "test_y_ = reg.predict(poly.fit_transform(test_x))\n",
    "\n",
    "print(\"Mean absolute error: %.2f\" % np.mean(np.absolute(test_y_ - test_y)))\n",
    "print(\"Residual sum of squares (MSE): %.2f\" % np.mean((test_y_ - test_y) ** 2))\n",
    "print(\"R2-score: %.2f\" % r2_score(test_y_ , test_y) )"
   ]
  },
  {
   "cell_type": "code",
   "execution_count": null,
   "metadata": {},
   "outputs": [],
   "source": []
  },
  {
   "cell_type": "code",
   "execution_count": null,
   "metadata": {},
   "outputs": [],
   "source": []
  }
 ],
 "metadata": {
  "kernelspec": {
   "display_name": "Python 3",
   "language": "python",
   "name": "python3"
  },
  "language_info": {
   "codemirror_mode": {
    "name": "ipython",
    "version": 3
   },
   "file_extension": ".py",
   "mimetype": "text/x-python",
   "name": "python",
   "nbconvert_exporter": "python",
   "pygments_lexer": "ipython3",
   "version": "3.8.5"
  }
 },
 "nbformat": 4,
 "nbformat_minor": 4
}
