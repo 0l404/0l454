{
 "cells": [
  {
   "cell_type": "code",
   "execution_count": 138,
   "metadata": {},
   "outputs": [],
   "source": [
    "import matplotlib.pyplot as plt\n",
    "import numpy as np\n",
    "import seaborn as sns\n",
    "import pandas as pd\n",
    "import sklearn\n",
    "from sklearn.linear_model import LinearRegression\n",
    "from sklearn import linear_model\n",
    "%config InLineBackend.figure_format = 'KKX'\n",
    "%matplotlib inline"
   ]
  },
  {
   "cell_type": "code",
   "execution_count": 139,
   "metadata": {},
   "outputs": [
    {
     "data": {
      "text/html": [
       "<div>\n",
       "<style scoped>\n",
       "    .dataframe tbody tr th:only-of-type {\n",
       "        vertical-align: middle;\n",
       "    }\n",
       "\n",
       "    .dataframe tbody tr th {\n",
       "        vertical-align: top;\n",
       "    }\n",
       "\n",
       "    .dataframe thead th {\n",
       "        text-align: right;\n",
       "    }\n",
       "</style>\n",
       "<table border=\"1\" class=\"dataframe\">\n",
       "  <thead>\n",
       "    <tr style=\"text-align: right;\">\n",
       "      <th></th>\n",
       "      <th>year</th>\n",
       "      <th>value</th>\n",
       "      <th>gdp</th>\n",
       "    </tr>\n",
       "  </thead>\n",
       "  <tbody>\n",
       "    <tr>\n",
       "      <th>0</th>\n",
       "      <td>2540.01</td>\n",
       "      <td>24.73</td>\n",
       "      <td>63.70</td>\n",
       "    </tr>\n",
       "    <tr>\n",
       "      <th>1</th>\n",
       "      <td>2540.02</td>\n",
       "      <td>24.33</td>\n",
       "      <td>63.70</td>\n",
       "    </tr>\n",
       "    <tr>\n",
       "      <th>2</th>\n",
       "      <td>2540.03</td>\n",
       "      <td>25.46</td>\n",
       "      <td>63.70</td>\n",
       "    </tr>\n",
       "    <tr>\n",
       "      <th>3</th>\n",
       "      <td>2540.04</td>\n",
       "      <td>23.38</td>\n",
       "      <td>63.70</td>\n",
       "    </tr>\n",
       "    <tr>\n",
       "      <th>4</th>\n",
       "      <td>2540.05</td>\n",
       "      <td>23.41</td>\n",
       "      <td>63.70</td>\n",
       "    </tr>\n",
       "    <tr>\n",
       "      <th>...</th>\n",
       "      <td>...</td>\n",
       "      <td>...</td>\n",
       "      <td>...</td>\n",
       "    </tr>\n",
       "    <tr>\n",
       "      <th>278</th>\n",
       "      <td>2563.03</td>\n",
       "      <td>36.79</td>\n",
       "      <td>101.36</td>\n",
       "    </tr>\n",
       "    <tr>\n",
       "      <th>279</th>\n",
       "      <td>2563.04</td>\n",
       "      <td>33.59</td>\n",
       "      <td>101.36</td>\n",
       "    </tr>\n",
       "    <tr>\n",
       "      <th>280</th>\n",
       "      <td>2563.05</td>\n",
       "      <td>35.22</td>\n",
       "      <td>101.36</td>\n",
       "    </tr>\n",
       "    <tr>\n",
       "      <th>281</th>\n",
       "      <td>2563.06</td>\n",
       "      <td>36.96</td>\n",
       "      <td>101.36</td>\n",
       "    </tr>\n",
       "    <tr>\n",
       "      <th>282</th>\n",
       "      <td>2563.07</td>\n",
       "      <td>38.12</td>\n",
       "      <td>101.36</td>\n",
       "    </tr>\n",
       "  </tbody>\n",
       "</table>\n",
       "<p>283 rows × 3 columns</p>\n",
       "</div>"
      ],
      "text/plain": [
       "        year  value     gdp\n",
       "0    2540.01  24.73   63.70\n",
       "1    2540.02  24.33   63.70\n",
       "2    2540.03  25.46   63.70\n",
       "3    2540.04  23.38   63.70\n",
       "4    2540.05  23.41   63.70\n",
       "..       ...    ...     ...\n",
       "278  2563.03  36.79  101.36\n",
       "279  2563.04  33.59  101.36\n",
       "280  2563.05  35.22  101.36\n",
       "281  2563.06  36.96  101.36\n",
       "282  2563.07  38.12  101.36\n",
       "\n",
       "[283 rows x 3 columns]"
      ]
     },
     "execution_count": 139,
     "metadata": {},
     "output_type": "execute_result"
    }
   ],
   "source": [
    "data = pd.read_csv('RESULT 2.csv') \n",
    "data"
   ]
  },
  {
   "cell_type": "code",
   "execution_count": 140,
   "metadata": {},
   "outputs": [
    {
     "name": "stdout",
     "output_type": "stream",
     "text": [
      "<class 'pandas.core.frame.DataFrame'>\n",
      "RangeIndex: 283 entries, 0 to 282\n",
      "Data columns (total 3 columns):\n",
      " #   Column  Non-Null Count  Dtype  \n",
      "---  ------  --------------  -----  \n",
      " 0   year    283 non-null    float64\n",
      " 1   value   283 non-null    float64\n",
      " 2   gdp     283 non-null    float64\n",
      "dtypes: float64(3)\n",
      "memory usage: 6.7 KB\n"
     ]
    }
   ],
   "source": [
    "data.info()\n",
    "cols=['year','value','gdp']\n",
    "mul=['gdp','year']"
   ]
  },
  {
   "cell_type": "code",
   "execution_count": 141,
   "metadata": {},
   "outputs": [
    {
     "data": {
      "image/png": "[encoded data removed]",
      "text/plain": [
       "<Figure size 360x360 with 1 Axes>"
      ]
     },
     "metadata": {
      "needs_background": "light"
     },
     "output_type": "display_data"
    }
   ],
   "source": [
    "sns.lmplot(x='year',y='value',data=data, ci=None,)\n",
    "scatter_kws={'alpha':0.4}\n",
    "line_kws={'color':'orange'}"
   ]
  },
  {
   "cell_type": "code",
   "execution_count": 142,
   "metadata": {},
   "outputs": [
    {
     "data": {
      "text/plain": [
       "<seaborn.axisgrid.PairGrid at 0x16596c58>"
      ]
     },
     "execution_count": 142,
     "metadata": {},
     "output_type": "execute_result"
    },
    {
     "data": {
      "image/png": "[encoded data removed]",
      "text/plain": [
       "<Figure size 540x540 with 12 Axes>"
      ]
     },
     "metadata": {
      "needs_background": "light"
     },
     "output_type": "display_data"
    }
   ],
   "source": [
    "\n",
    "sns.pairplot(data, kind='reg')"
   ]
  },
  {
   "cell_type": "code",
   "execution_count": 143,
   "metadata": {},
   "outputs": [
    {
     "data": {
      "text/plain": [
       "LinearRegression()"
      ]
     },
     "execution_count": 143,
     "metadata": {},
     "output_type": "execute_result"
    }
   ],
   "source": [
    "model = LinearRegression()\n",
    "model"
   ]
  },
  {
   "cell_type": "code",
   "execution_count": 144,
   "metadata": {},
   "outputs": [
    {
     "data": {
      "text/plain": [
       "283"
      ]
     },
     "execution_count": 144,
     "metadata": {},
     "output_type": "execute_result"
    }
   ],
   "source": [
    "len(data)"
   ]
  },
  {
   "cell_type": "code",
   "execution_count": 145,
   "metadata": {},
   "outputs": [
    {
     "data": {
      "text/plain": [
       "Index(['year', 'value', 'gdp'], dtype='object')"
      ]
     },
     "execution_count": 145,
     "metadata": {},
     "output_type": "execute_result"
    }
   ],
   "source": [
    "data.columns"
   ]
  },
  {
   "cell_type": "code",
   "execution_count": 146,
   "metadata": {},
   "outputs": [],
   "source": [
    "train_x=data.drop(columns=['value'])#ลบ value ออกจาก แกน x\n",
    "train_y=data['value']#ให้ แกน y เป็น value"
   ]
  },
  {
   "cell_type": "code",
   "execution_count": 147,
   "metadata": {},
   "outputs": [
    {
     "data": {
      "text/plain": [
       "283"
      ]
     },
     "execution_count": 147,
     "metadata": {},
     "output_type": "execute_result"
    }
   ],
   "source": [
    "len(data)"
   ]
  },
  {
   "cell_type": "code",
   "execution_count": 148,
   "metadata": {},
   "outputs": [
    {
     "data": {
      "text/plain": [
       "0    24.73\n",
       "1    24.33\n",
       "2    25.46\n",
       "3    23.38\n",
       "4    23.41\n",
       "Name: value, dtype: float64"
      ]
     },
     "execution_count": 148,
     "metadata": {},
     "output_type": "execute_result"
    }
   ],
   "source": [
    "train_y.head()"
   ]
  },
  {
   "cell_type": "code",
   "execution_count": 149,
   "metadata": {},
   "outputs": [
    {
     "data": {
      "text/html": [
       "<div>\n",
       "<style scoped>\n",
       "    .dataframe tbody tr th:only-of-type {\n",
       "        vertical-align: middle;\n",
       "    }\n",
       "\n",
       "    .dataframe tbody tr th {\n",
       "        vertical-align: top;\n",
       "    }\n",
       "\n",
       "    .dataframe thead th {\n",
       "        text-align: right;\n",
       "    }\n",
       "</style>\n",
       "<table border=\"1\" class=\"dataframe\">\n",
       "  <thead>\n",
       "    <tr style=\"text-align: right;\">\n",
       "      <th></th>\n",
       "      <th>year</th>\n",
       "      <th>gdp</th>\n",
       "    </tr>\n",
       "  </thead>\n",
       "  <tbody>\n",
       "    <tr>\n",
       "      <th>0</th>\n",
       "      <td>2540.01</td>\n",
       "      <td>63.7</td>\n",
       "    </tr>\n",
       "    <tr>\n",
       "      <th>1</th>\n",
       "      <td>2540.02</td>\n",
       "      <td>63.7</td>\n",
       "    </tr>\n",
       "    <tr>\n",
       "      <th>2</th>\n",
       "      <td>2540.03</td>\n",
       "      <td>63.7</td>\n",
       "    </tr>\n",
       "    <tr>\n",
       "      <th>3</th>\n",
       "      <td>2540.04</td>\n",
       "      <td>63.7</td>\n",
       "    </tr>\n",
       "    <tr>\n",
       "      <th>4</th>\n",
       "      <td>2540.05</td>\n",
       "      <td>63.7</td>\n",
       "    </tr>\n",
       "  </tbody>\n",
       "</table>\n",
       "</div>"
      ],
      "text/plain": [
       "      year   gdp\n",
       "0  2540.01  63.7\n",
       "1  2540.02  63.7\n",
       "2  2540.03  63.7\n",
       "3  2540.04  63.7\n",
       "4  2540.05  63.7"
      ]
     },
     "execution_count": 149,
     "metadata": {},
     "output_type": "execute_result"
    }
   ],
   "source": [
    "train_x.head() "
   ]
  },
  {
   "cell_type": "code",
   "execution_count": 150,
   "metadata": {},
   "outputs": [
    {
     "data": {
      "text/plain": [
       "LinearRegression()"
      ]
     },
     "execution_count": 150,
     "metadata": {},
     "output_type": "execute_result"
    }
   ],
   "source": [
    "model.fit(train_x,train_y)"
   ]
  },
  {
   "cell_type": "code",
   "execution_count": 151,
   "metadata": {},
   "outputs": [
    {
     "data": {
      "text/plain": [
       "0.4156532787858641"
      ]
     },
     "execution_count": 151,
     "metadata": {},
     "output_type": "execute_result"
    }
   ],
   "source": [
    "model.score(train_x,train_y)#อันนี้ปะที่ใช้หา R2_score"
   ]
  },
  {
   "cell_type": "code",
   "execution_count": 152,
   "metadata": {},
   "outputs": [
    {
     "data": {
      "text/plain": [
       "22928.59446893543"
      ]
     },
     "execution_count": 152,
     "metadata": {},
     "output_type": "execute_result"
    }
   ],
   "source": [
    "model.intercept_"
   ]
  },
  {
   "cell_type": "code",
   "execution_count": 153,
   "metadata": {},
   "outputs": [
    {
     "data": {
      "text/plain": [
       "array([-9.16054416,  5.76430622])"
      ]
     },
     "execution_count": 153,
     "metadata": {},
     "output_type": "execute_result"
    }
   ],
   "source": [
    "model.coef_\n"
   ]
  },
  {
   "cell_type": "code",
   "execution_count": 154,
   "metadata": {},
   "outputs": [
    {
     "data": {
      "text/plain": [
       "array([27.9069974])"
      ]
     },
     "execution_count": 154,
     "metadata": {},
     "output_type": "execute_result"
    }
   ],
   "source": [
    "model.predict([[2540.01,63.7]])\n",
    "           "
   ]
  },
  {
   "cell_type": "code",
   "execution_count": 155,
   "metadata": {},
   "outputs": [
    {
     "data": {
      "text/html": [
       "<div>\n",
       "<style scoped>\n",
       "    .dataframe tbody tr th:only-of-type {\n",
       "        vertical-align: middle;\n",
       "    }\n",
       "\n",
       "    .dataframe tbody tr th {\n",
       "        vertical-align: top;\n",
       "    }\n",
       "\n",
       "    .dataframe thead th {\n",
       "        text-align: right;\n",
       "    }\n",
       "</style>\n",
       "<table border=\"1\" class=\"dataframe\">\n",
       "  <thead>\n",
       "    <tr style=\"text-align: right;\">\n",
       "      <th></th>\n",
       "      <th>year</th>\n",
       "      <th>gdp</th>\n",
       "    </tr>\n",
       "  </thead>\n",
       "  <tbody>\n",
       "    <tr>\n",
       "      <th>50</th>\n",
       "      <td>2544.03</td>\n",
       "      <td>71.2</td>\n",
       "    </tr>\n",
       "    <tr>\n",
       "      <th>51</th>\n",
       "      <td>2544.04</td>\n",
       "      <td>71.2</td>\n",
       "    </tr>\n",
       "    <tr>\n",
       "      <th>52</th>\n",
       "      <td>2544.05</td>\n",
       "      <td>71.2</td>\n",
       "    </tr>\n",
       "    <tr>\n",
       "      <th>53</th>\n",
       "      <td>2544.06</td>\n",
       "      <td>71.2</td>\n",
       "    </tr>\n",
       "    <tr>\n",
       "      <th>54</th>\n",
       "      <td>2544.07</td>\n",
       "      <td>71.2</td>\n",
       "    </tr>\n",
       "  </tbody>\n",
       "</table>\n",
       "</div>"
      ],
      "text/plain": [
       "       year   gdp\n",
       "50  2544.03  71.2\n",
       "51  2544.04  71.2\n",
       "52  2544.05  71.2\n",
       "53  2544.06  71.2\n",
       "54  2544.07  71.2"
      ]
     },
     "execution_count": 155,
     "metadata": {},
     "output_type": "execute_result"
    }
   ],
   "source": [
    "x_test=data.drop(columns=['value'])[50:]\n",
    "x_test.head()"
   ]
  },
  {
   "cell_type": "code",
   "execution_count": 156,
   "metadata": {},
   "outputs": [
    {
     "data": {
      "text/plain": [
       "array([34.31390655, 34.22230111, 34.13069567, 34.03909022, 33.94748478,\n",
       "       33.85587934, 33.7642739 , 33.67266846, 33.58106302, 33.48945758,\n",
       "       28.21872638, 28.12712094, 28.0355155 , 27.94391006, 27.85230462,\n",
       "       27.76069917, 27.66909373, 27.57748829, 27.48588285, 27.39427741,\n",
       "       27.30267197, 27.21106653, 26.55178031, 26.46017487, 26.36856943,\n",
       "       26.27696399, 26.18535855, 26.0937531 , 26.00214766, 25.91054222,\n",
       "       25.81893678, 25.72733134, 25.6357259 , 25.54412046, 29.49627922,\n",
       "       29.40467378, 29.31306834, 29.2214629 , 29.12985746, 29.03825201,\n",
       "       28.94664657, 28.85504113, 28.76343569, 28.67183025, 28.58022481,\n",
       "       28.48861937, 39.3579456 , 39.26634016, 39.17473472, 39.08312928,\n",
       "       38.99152384, 38.89991839, 38.80831295, 38.71670751, 38.62510207,\n",
       "       38.53349663, 38.44189119, 38.35028574, 51.52533447, 51.43372903,\n",
       "       51.34212359, 51.25051815, 51.15891271, 51.06730726, 50.97570182,\n",
       "       50.88409638, 50.79249094, 50.7008855 , 50.60928006, 50.51767461,\n",
       "       52.74054151, 52.64893607, 52.55733063, 52.46572519, 52.37411975,\n",
       "       52.28251431, 52.19090887, 52.09930342, 52.00769798, 51.91609254,\n",
       "       51.8244871 , 51.73288166, 70.09580599, 70.00420055, 69.9125951 ,\n",
       "       69.82098966, 69.72938422, 69.63777878, 69.54617334, 69.4545679 ,\n",
       "       69.36296245, 69.27135701, 69.17975157, 69.08814613, 56.32381684,\n",
       "       56.2322114 , 56.14060596, 56.04900052, 55.95739508, 55.86578964,\n",
       "       55.77418419, 55.68257875, 55.59097331, 55.49936787, 55.40776243,\n",
       "       55.31615699, 64.05268992, 63.96108448, 63.86947904, 63.7778736 ,\n",
       "       63.68626815, 63.59466271, 63.50305727, 63.41145183, 63.31984639,\n",
       "       63.22824095, 63.13663551, 63.04503006, 74.77900223, 74.68739679,\n",
       "       74.59579135, 74.50418591, 74.41258047, 74.32097503, 74.22936959,\n",
       "       74.13776414, 74.0461587 , 73.95455326, 73.86294782, 73.77134238,\n",
       "       81.93144469, 81.83983925, 81.74823381, 81.65662836, 81.56502292,\n",
       "       81.47341748, 81.38181204, 81.2902066 , 81.19860116, 81.10699571,\n",
       "       81.01539027, 80.92378483, 84.99122972, 84.89962428, 84.80801884,\n",
       "       84.7164134 , 84.62480796, 84.53320252, 84.44159707, 84.34999163,\n",
       "       84.25838619, 84.16678075, 84.07517531, 83.98356987, 86.66758126,\n",
       "       86.57597582, 86.48437038, 86.39276494, 86.3011595 , 86.20955406,\n",
       "       86.11794861, 86.02634317, 85.93473773, 85.84313229, 85.75152685,\n",
       "       85.65992141, 72.26151844, 72.16991299, 72.07830755, 71.98670211,\n",
       "       71.89509667, 71.80349123, 71.71188579, 71.62028035, 71.5286749 ,\n",
       "       71.43706946, 71.34546402, 71.25385858, 64.19619246, 64.10458702,\n",
       "       64.01298157, 63.92137613, 63.82977069, 63.73816525, 63.64655981,\n",
       "       63.55495437, 63.46334892, 63.37174348, 63.28013804, 63.1885326 ,\n",
       "       58.8400904 , 58.74848496, 58.65687952, 58.56527408, 58.47366864,\n",
       "       58.38206319, 58.29045775, 58.19885231, 58.10724687, 58.01564143,\n",
       "       57.92403599, 57.83243054, 55.90499696, 55.81339152, 55.72178608,\n",
       "       55.63018064, 55.5385752 , 55.44696976, 55.35536431, 55.26375887,\n",
       "       55.17215343, 55.08054799, 54.98894255, 54.89733711, 50.89475328,\n",
       "       50.80314784, 50.7115424 , 50.61993696, 50.52833152, 50.43672607,\n",
       "       50.34512063, 50.25351519, 50.16190975, 50.07030431, 49.97869887,\n",
       "       49.88709342, 34.29825409, 34.20664865, 34.11504321, 34.02343777,\n",
       "       33.93183232, 33.84022688, 33.74862144])"
      ]
     },
     "execution_count": 156,
     "metadata": {},
     "output_type": "execute_result"
    }
   ],
   "source": [
    "\n",
    "y_hat=model.predict(x_test)\n",
    "y_hat"
   ]
  },
  {
   "cell_type": "code",
   "execution_count": 157,
   "metadata": {},
   "outputs": [
    {
     "data": {
      "text/html": [
       "<div>\n",
       "<style scoped>\n",
       "    .dataframe tbody tr th:only-of-type {\n",
       "        vertical-align: middle;\n",
       "    }\n",
       "\n",
       "    .dataframe tbody tr th {\n",
       "        vertical-align: top;\n",
       "    }\n",
       "\n",
       "    .dataframe thead th {\n",
       "        text-align: right;\n",
       "    }\n",
       "</style>\n",
       "<table border=\"1\" class=\"dataframe\">\n",
       "  <thead>\n",
       "    <tr style=\"text-align: right;\">\n",
       "      <th></th>\n",
       "      <th>index</th>\n",
       "      <th>year</th>\n",
       "      <th>value</th>\n",
       "      <th>gdp</th>\n",
       "      <th>predicted</th>\n",
       "    </tr>\n",
       "  </thead>\n",
       "  <tbody>\n",
       "    <tr>\n",
       "      <th>0</th>\n",
       "      <td>50</td>\n",
       "      <td>2544.03</td>\n",
       "      <td>20.72</td>\n",
       "      <td>71.20</td>\n",
       "      <td>34.313907</td>\n",
       "    </tr>\n",
       "    <tr>\n",
       "      <th>1</th>\n",
       "      <td>51</td>\n",
       "      <td>2544.04</td>\n",
       "      <td>22.01</td>\n",
       "      <td>71.20</td>\n",
       "      <td>34.222301</td>\n",
       "    </tr>\n",
       "    <tr>\n",
       "      <th>2</th>\n",
       "      <td>52</td>\n",
       "      <td>2544.05</td>\n",
       "      <td>23.82</td>\n",
       "      <td>71.20</td>\n",
       "      <td>34.130696</td>\n",
       "    </tr>\n",
       "    <tr>\n",
       "      <th>3</th>\n",
       "      <td>53</td>\n",
       "      <td>2544.06</td>\n",
       "      <td>24.34</td>\n",
       "      <td>71.20</td>\n",
       "      <td>34.039090</td>\n",
       "    </tr>\n",
       "    <tr>\n",
       "      <th>4</th>\n",
       "      <td>54</td>\n",
       "      <td>2544.07</td>\n",
       "      <td>22.60</td>\n",
       "      <td>71.20</td>\n",
       "      <td>33.947485</td>\n",
       "    </tr>\n",
       "    <tr>\n",
       "      <th>...</th>\n",
       "      <td>...</td>\n",
       "      <td>...</td>\n",
       "      <td>...</td>\n",
       "      <td>...</td>\n",
       "      <td>...</td>\n",
       "    </tr>\n",
       "    <tr>\n",
       "      <th>228</th>\n",
       "      <td>278</td>\n",
       "      <td>2563.03</td>\n",
       "      <td>36.79</td>\n",
       "      <td>101.36</td>\n",
       "      <td>34.115043</td>\n",
       "    </tr>\n",
       "    <tr>\n",
       "      <th>229</th>\n",
       "      <td>279</td>\n",
       "      <td>2563.04</td>\n",
       "      <td>33.59</td>\n",
       "      <td>101.36</td>\n",
       "      <td>34.023438</td>\n",
       "    </tr>\n",
       "    <tr>\n",
       "      <th>230</th>\n",
       "      <td>280</td>\n",
       "      <td>2563.05</td>\n",
       "      <td>35.22</td>\n",
       "      <td>101.36</td>\n",
       "      <td>33.931832</td>\n",
       "    </tr>\n",
       "    <tr>\n",
       "      <th>231</th>\n",
       "      <td>281</td>\n",
       "      <td>2563.06</td>\n",
       "      <td>36.96</td>\n",
       "      <td>101.36</td>\n",
       "      <td>33.840227</td>\n",
       "    </tr>\n",
       "    <tr>\n",
       "      <th>232</th>\n",
       "      <td>282</td>\n",
       "      <td>2563.07</td>\n",
       "      <td>38.12</td>\n",
       "      <td>101.36</td>\n",
       "      <td>33.748621</td>\n",
       "    </tr>\n",
       "  </tbody>\n",
       "</table>\n",
       "<p>233 rows × 5 columns</p>\n",
       "</div>"
      ],
      "text/plain": [
       "     index     year  value     gdp  predicted\n",
       "0       50  2544.03  20.72   71.20  34.313907\n",
       "1       51  2544.04  22.01   71.20  34.222301\n",
       "2       52  2544.05  23.82   71.20  34.130696\n",
       "3       53  2544.06  24.34   71.20  34.039090\n",
       "4       54  2544.07  22.60   71.20  33.947485\n",
       "..     ...      ...    ...     ...        ...\n",
       "228    278  2563.03  36.79  101.36  34.115043\n",
       "229    279  2563.04  33.59  101.36  34.023438\n",
       "230    280  2563.05  35.22  101.36  33.931832\n",
       "231    281  2563.06  36.96  101.36  33.840227\n",
       "232    282  2563.07  38.12  101.36  33.748621\n",
       "\n",
       "[233 rows x 5 columns]"
      ]
     },
     "execution_count": 157,
     "metadata": {},
     "output_type": "execute_result"
    }
   ],
   "source": [
    "dc=pd.concat([data[50:].reset_index(),pd.Series(y_hat, name='predicted')], axis='columns')\n",
    "dc"
   ]
  }
 ],
 "metadata": {
  "kernelspec": {
   "display_name": "Python 3",
   "language": "python",
   "name": "python3"
  },
  "language_info": {
   "codemirror_mode": {
    "name": "ipython",
    "version": 3
   },
   "file_extension": ".py",
   "mimetype": "text/x-python",
   "name": "python",
   "nbconvert_exporter": "python",
   "pygments_lexer": "ipython3",
   "version": "3.8.5"
  }
 },
 "nbformat": 4,
 "nbformat_minor": 4
}
